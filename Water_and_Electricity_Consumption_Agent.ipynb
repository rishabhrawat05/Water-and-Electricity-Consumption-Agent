{
  "nbformat": 4,
  "nbformat_minor": 0,
  "metadata": {
    "colab": {
      "provenance": [],
      "authorship_tag": "ABX9TyMrB/DW8Gx4lB+/PSoFoc5q",
      "include_colab_link": true
    },
    "kernelspec": {
      "name": "python3",
      "display_name": "Python 3"
    },
    "language_info": {
      "name": "python"
    }
  },
  "cells": [
    {
      "cell_type": "markdown",
      "metadata": {
        "id": "view-in-github",
        "colab_type": "text"
      },
      "source": [
        "<a href=\"https://colab.research.google.com/github/rishabhrawat05/Water-and-Electricity-Consumption-Agent/blob/main/Water_and_Electricity_Consumption_Agent.ipynb\" target=\"_parent\"><img src=\"https://colab.research.google.com/assets/colab-badge.svg\" alt=\"Open In Colab\"/></a>"
      ]
    },
    {
      "cell_type": "markdown",
      "source": [
        "# Electricity and Water Consumption Prediction Agent\n",
        "\n",
        "The **Electricity and Water Consumption Prediction Agent** is an AI-driven tool designed to predict and analyze water and electricity consumption trends in specified regions. It leverages data from various reliable sources such as government reports, utility websites, and public databases to provide accurate and insightful predictions.\n",
        "\n",
        "This agent uses a combination of multiple AI models to collect, process, and analyze data efficiently. It identifies patterns, trends, and anomalies, helping in urban planning, resource management, and policy formulation. The agent integrates the outputs from multiple tools to deliver the most comprehensive and accurate predictions possible.\n",
        "\n",
        "## 🔑 Key Features\n",
        "- **Data Scraping:** Gathers data from trusted sources, including public databases and official reports.\n",
        "- **Multi-Model Integration:** Combines outputs from different models to enhance accuracy and robustness.\n",
        "- **Pattern Recognition:** Identifies consumption patterns and trends over time.\n",
        "- **Anomaly Detection:** Detects unusual patterns that may indicate potential issues or shifts in consumption.\n",
        "- **Prediction and Analysis:** Generates reliable forecasts for both water and electricity usage.\n",
        "\n",
        "## 🚀 Use Cases\n",
        "- **Urban Planning:** Support decision-making for sustainable infrastructure.\n",
        "- **Resource Management:** Optimize water and electricity distribution.\n",
        "- **Policy Making:** Formulate data-driven government policies.\n",
        "- **Research and Analysis:** Aid in academic and professional research related to consumption trends.\n",
        "\n",
        "## 🛠️ Technology Stack\n",
        "- **AI Models:** Combines multiple models to improve prediction accuracy.\n",
        "- **Data Sources:** Government reports, public databases, utility websites.\n",
        "- **Implementation:** Python and AI model integration.\n",
        "\n",
        "This agent serves as a comprehensive solution to predict and understand water and electricity consumption trends, making it invaluable for decision-makers and researchers alike.\n"
      ],
      "metadata": {
        "id": "9Tr8lBEKl4uR"
      }
    },
    {
      "cell_type": "markdown",
      "source": [
        "## **Installation of aixplain SDK**"
      ],
      "metadata": {
        "id": "G0wENhNHf56e"
      }
    },
    {
      "cell_type": "code",
      "execution_count": null,
      "metadata": {
        "id": "LXUPWAP-J19S"
      },
      "outputs": [],
      "source": [
        "!pip install -q aixplain"
      ]
    },
    {
      "cell_type": "code",
      "source": [
        "#@title ###**Add your aiXplain access key**\n",
        "\n",
        "#@markdown Get your aiXplain **access key** from the [Integrations](https://platform.aixplain.com/account/integrations) page.\n",
        "\n",
        "Key = \"<AIXPLAIN_API_KEY>\" #@param {type:\"string\"}\n",
        "\n",
        "import os\n",
        "os.environ[\"TEAM_API_KEY\"] = Key"
      ],
      "metadata": {
        "id": "wFEApH4AJ5uy"
      },
      "execution_count": null,
      "outputs": []
    },
    {
      "cell_type": "markdown",
      "source": [
        "## **⚡💧 Electricity and Water Consumption Prediction Agent**\n",
        "\n",
        "### **🌐 Overview**\n",
        "The Electricity and Water Consumption Prediction Agent is designed to collect, analyze, and predict consumption trends of water and electricity for a specified region. It gathers data from reliable sources such as government reports, utility websites, and public databases. The agent then summarizes and analyzes the data to identify consumption patterns, trends, and anomalies.\n",
        "\n",
        "### **➡️Features**\n",
        "\n",
        "**1️⃣Data Collection**: Scrapes data from reliable and authoritative sources.\n",
        "\n",
        "**2️⃣Data Analysis**: Identifies patterns, trends, and anomalies in consumption.\n",
        "\n",
        "**3️⃣Summarization**: Provides concise insights and reports.\n",
        "\n",
        "**4️⃣Multi-Model Fusion**: Uses multiple tools to gather diverse perspectives.\n",
        "\n",
        "**5️⃣Real-Time Predictions**: Provides up-to-date consumption forecasts.\n"
      ],
      "metadata": {
        "id": "Z4OtTeIDgDmg"
      }
    },
    {
      "cell_type": "code",
      "source": [
        "from aixplain.factories import AgentFactory\n",
        "from aixplain.modules.agent.tool.model_tool import ModelTool\n",
        "\n",
        "# Electricity and Water Consumption Agent Creation\n",
        "\n",
        "agent = AgentFactory.create(\n",
        "    name=\"Electricty and Water Consumption Prediction Agent\",\n",
        "    description=\"Scrapes data about water and electricity consumption in a specified region from reliable sources, including government reports, utility websites, and public databases. Summarizes and analyzes the gathered data to identify consumption patterns, trends, and anomalies.\",\n",
        "    tools = [ModelTool(model=\"66f423426eb563fa213a3531\"), # Scrape Website Tool\n",
        "             ModelTool(model=\"6736411cf127849667606689\"), # Tavily Search API\n",
        "             ModelTool(model=\"6633fd59821ee31dd914e232\"), # Wikipedia\n",
        "             ModelTool(model=\"65c51c556eb563350f6e1bb1\"), # Google Search\n",
        "    ],\n",
        "    llm_id=\"669a63646eb56306647e1091\"\n",
        "\n",
        ")"
      ],
      "metadata": {
        "id": "mgIbf2umcZ1O"
      },
      "execution_count": 77,
      "outputs": []
    },
    {
      "cell_type": "markdown",
      "source": [
        "## **Testing the Agent**"
      ],
      "metadata": {
        "id": "dzeTtjdOkPyd"
      }
    },
    {
      "cell_type": "code",
      "source": [
        "# Testing the Agent\n",
        "response = agent.run(\"Electricity and water consumption trends in Delhi in 2022\")\n",
        "print(response['data']['output'])"
      ],
      "metadata": {
        "colab": {
          "base_uri": "https://localhost:8080/"
        },
        "id": "26c4XtmIdSMf",
        "outputId": "5463fbd8-8611-4290-b822-16f8963cd7b3"
      },
      "execution_count": 76,
      "outputs": [
        {
          "output_type": "stream",
          "name": "stdout",
          "text": [
            "In 2022, Delhi saw significant trends in electricity and water consumption. The number of electricity consumers increased to 6,662,209, up from 6,412,472 in 2021. Peak power demand reached 4,964 MW in 2022. Over the past decade, power consumption surged by nearly 37%, with total consumption rising from 25,593 Million Units (MUs) to 35,042 MUs. The number of power consumers also grew by over 52%. On the water consumption side, issues such as high leakages and pending clearance for large water treatment projects were noted, impacting the revenue for the Delhi Jal Board.\n"
          ]
        }
      ]
    },
    {
      "cell_type": "code",
      "source": [
        "# Get session id\n",
        "session = response[\"data\"][\"session_id\"]"
      ],
      "metadata": {
        "id": "SrkyfKePlBHy"
      },
      "execution_count": null,
      "outputs": []
    },
    {
      "cell_type": "markdown",
      "source": [
        "## **Ask Follow Up Question for testing the agent**"
      ],
      "metadata": {
        "id": "7hTXjfrvkVlF"
      }
    },
    {
      "cell_type": "code",
      "source": [
        "# Another Query for testing the agent\n",
        "response = agent.run(\"Electricity and water consumption based on population\", session_id=session)\n",
        "print(response['data']['output'])"
      ],
      "metadata": {
        "colab": {
          "base_uri": "https://localhost:8080/"
        },
        "id": "LDl-ZISTjy26",
        "outputId": "4d1d2d36-5a3d-416f-cda4-0351db351d59"
      },
      "execution_count": null,
      "outputs": [
        {
          "output_type": "stream",
          "name": "stdout",
          "text": [
            "In 2022, Delhi's electricity consumption increased by 15.7% compared to 2021, reaching approximately 34,107 GWh. The water supply demand in Delhi is around 200 liters per capita per day, reflecting the region's urbanization and economic activities.\n"
          ]
        }
      ]
    },
    {
      "cell_type": "markdown",
      "source": [
        "### **Deploy the agent**"
      ],
      "metadata": {
        "id": "fSYp-5JDmW3I"
      }
    },
    {
      "cell_type": "code",
      "source": [
        "agent.deploy()"
      ],
      "metadata": {
        "id": "saQS3wFHma4_"
      },
      "execution_count": null,
      "outputs": []
    }
  ]
}